{
  "nbformat": 4,
  "nbformat_minor": 0,
  "metadata": {
    "colab": {
      "provenance": []
    },
    "kernelspec": {
      "name": "python3",
      "display_name": "Python 3"
    },
    "language_info": {
      "name": "python"
    }
  },
  "cells": [
    {
      "cell_type": "markdown",
      "source": [
        "### Taller Práctico: Variables en Python para Ingeniería Financiera\n",
        "\n",
        "# Introducción\n",
        "# En este taller, aprenderás a utilizar diferentes tipos de variables en Python\n",
        "# a través de ejercicios prácticos aplicados a escenarios financieros."
      ],
      "metadata": {
        "id": "Bo6nh2CyULcw"
      }
    },
    {
      "cell_type": "code",
      "source": [
        "# Ejercicio 1: Variables tipo string\n",
        "# Contexto: Un banco necesita almacenar el nombre de sus clientes. almacena 5 clientes en 5 variables diferentes\n"
      ],
      "metadata": {
        "id": "5jA7bjhcXcWI"
      },
      "execution_count": null,
      "outputs": []
    },
    {
      "cell_type": "markdown",
      "source": [
        "Resultado:"
      ],
      "metadata": {
        "id": "GmV9EQUzXuWv"
      }
    },
    {
      "cell_type": "code",
      "source": [
        "#Ingrese codigo aquí\n",
        "\n",
        "cl1 = \"Daniel Goku\"\n",
        "cl2 = \"Vegeta Montoya\"\n",
        "cl3 = \"Pedro Sayayin\"\n",
        "cl4 = \"Broly Renteria\"\n",
        "cl5 = \"Jesus Antonio\"\n",
        "\n",
        "print(\"Los Clientes del banco son:\", cl1,\",\",cl2,\",\",cl3,\",\",cl4,\",\",cl5)"
      ],
      "metadata": {
        "id": "jA7Qhj2tXwBN",
        "outputId": "c88c2d6d-fa90-4b8d-d2af-e4e1ba567352",
        "colab": {
          "base_uri": "https://localhost:8080/"
        }
      },
      "execution_count": 26,
      "outputs": [
        {
          "output_type": "stream",
          "name": "stdout",
          "text": [
            "Los Clientes del banco son: Daniel Goku , Vegeta Montoya , Pedro Sayayin , Broly Renteria , Jesus Antonio\n"
          ]
        }
      ]
    },
    {
      "cell_type": "code",
      "source": [
        "# Ejercicio 2: Concatenación de Strings\n",
        "# Contexto: Al generar reportes, el banco quiere mostrar el tipo de cuenta junto al nombre del cliente. realiza el ejercicio para las 5 variables\n"
      ],
      "metadata": {
        "id": "Sx7DMAgIX2xG"
      },
      "execution_count": null,
      "outputs": []
    },
    {
      "cell_type": "markdown",
      "source": [
        "Resultado"
      ],
      "metadata": {
        "id": "MgijW_JIX8Lu"
      }
    },
    {
      "cell_type": "code",
      "source": [
        "# Ingresa código aqui\n",
        "cl1 = \"Daniel Goku\"\n",
        "cl2 = \"Vegeta Montoya\"\n",
        "cl3 = \"Pedro Sayayin\"\n",
        "cl4 = \"Broly Renteria\"\n",
        "cl5 = \"Jesus Antonio\"\n",
        "Tip_cuent= \"Ahorros\"\n",
        "Tip_cuent2= \"Corriente\"\n",
        "Tip_cuent3= \"Ahorro a la Mano\"\n",
        "\n",
        "print(\" El Tipo de cuenta del cliente \", cl1, \" es: \",Tip_cuent)\n",
        "print(\" El Tipo de cuenta del cliente \", cl2, \" es: \",Tip_cuent2)\n",
        "print(\" El Tipo de cuenta del cliente \", cl3, \" es: \",Tip_cuent2)\n",
        "print(\" El Tipo de cuenta del cliente \", cl4, \" es: \",Tip_cuent3)\n",
        "print(\" El Tipo de cuenta del cliente \", cl5, \" es: \",Tip_cuent)"
      ],
      "metadata": {
        "id": "HjTub7W1X9c8",
        "outputId": "620d20e4-493a-4892-94da-315f2c2d4464",
        "colab": {
          "base_uri": "https://localhost:8080/"
        }
      },
      "execution_count": 38,
      "outputs": [
        {
          "output_type": "stream",
          "name": "stdout",
          "text": [
            " El Tipo de cuenta del cliente  Daniel Goku  es:  Ahorros\n",
            " El Tipo de cuenta del cliente  Vegeta Montoya  es:  Corriente\n",
            " El Tipo de cuenta del cliente  Pedro Sayayin  es:  Corriente\n",
            " El Tipo de cuenta del cliente  Broly Renteria  es:  Ahorro a la Mano\n",
            " El Tipo de cuenta del cliente  Jesus Antonio  es:  Ahorros\n"
          ]
        }
      ]
    },
    {
      "cell_type": "code",
      "source": [
        "# Ejercicio 4: Formateo de Variables\n",
        "# Contexto: Un banco necesita mostrar el saldo de un cliente con formato adecuado.\n"
      ],
      "metadata": {
        "id": "BC_aRDtOYKrb"
      },
      "execution_count": 13,
      "outputs": []
    },
    {
      "cell_type": "markdown",
      "source": [
        "Resultado"
      ],
      "metadata": {
        "id": "swsBPuJ3YSej"
      }
    },
    {
      "cell_type": "code",
      "source": [
        "#Ingrese el código aquí\n",
        "\n",
        "Sald= 2000000\n",
        "Saldo = f\"{Saldo:,.0f}\".replace(\",\", \".\")\n",
        "\n",
        "print(\"El saldo del Cliente \", cl2,\" es de:\", \"$\", Saldo, \"(pesos colombianos)\")\n"
      ],
      "metadata": {
        "id": "NPlztw_KYTzL",
        "outputId": "3b9f4ba9-ecf2-4f18-bcd7-c7c6734c3040",
        "colab": {
          "base_uri": "https://localhost:8080/"
        }
      },
      "execution_count": 69,
      "outputs": [
        {
          "output_type": "stream",
          "name": "stdout",
          "text": [
            "El saldo del Cliente  Vegeta Montoya  es de: $ 2.000.000 (pesos colombianos)\n"
          ]
        }
      ]
    },
    {
      "cell_type": "code",
      "source": [
        "# Ejercicio 5: Entrada de Datos\n",
        "# Contexto: Un cliente ingresa su número de identificación para consultar su estado de cuenta. crea para cada cliente una variable de identificacion\n",
        "\n",
        "id_cliente = input(\"Ingrese su número de identificación: \")\n",
        "print(\"ID registrado:\", id_cliente)"
      ],
      "metadata": {
        "id": "I7yQTuYqYcIJ"
      },
      "execution_count": null,
      "outputs": []
    },
    {
      "cell_type": "markdown",
      "source": [
        "Resultado"
      ],
      "metadata": {
        "id": "7vzKHerGYgpt"
      }
    },
    {
      "cell_type": "code",
      "source": [
        "#inserte código aqui"
      ],
      "metadata": {
        "id": "puoOr2v2Yhz5"
      },
      "execution_count": null,
      "outputs": []
    },
    {
      "cell_type": "code",
      "source": [
        "# Ejercicio 6: Variables Booleanas\n",
        "# Contexto: Validar si un cliente tiene derecho a un préstamo. crea tres ejercicios con variables booleanas\n",
        "ingresos_mensuales = 3000\n",
        "historial_crediticio = True\n",
        "es_aprobado = ingresos_mensuales > 2500 and historial_crediticio\n",
        "print(\"¿El cliente es aprobado para el préstamo?:\", es_aprobado)"
      ],
      "metadata": {
        "id": "_zpACyy_YzZ4"
      },
      "execution_count": null,
      "outputs": []
    }
  ]
}